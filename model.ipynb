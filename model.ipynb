{
 "cells": [
  {
   "cell_type": "code",
   "execution_count": null,
   "metadata": {},
   "outputs": [],
   "source": [
    "from ultralytics import YOLO\n",
    "\n",
    "model = YOLO('yolov8n.pt')  \n",
    "\n",
    "model.train(\n",
    "    data='data.yaml',     \n",
    "    epochs=50,            \n",
    "    imgsz=640,            \n",
    "    batch=16,             \n",
    "    name='tree_detector', \n",
    "    project='runs/train'  \n",
    ")\n"
   ]
  },
  {
   "cell_type": "code",
   "execution_count": null,
   "metadata": {},
   "outputs": [],
   "source": [
    "\n",
    "model = YOLO('runs/train/tree_detector/weights/best.pt')\n",
    "\n",
    "\n",
    "results = model('test_image.jpg')  \n",
    "tree_count = sum(conf > 0.5 for conf in results[0].boxes.conf)\n",
    "print(f\"Number of trees detected: {tree_count}\")\n",
    "\n",
    "results[0].show()    \n"
   ]
  }
 ],
 "metadata": {
  "language_info": {
   "name": "python"
  },
  "orig_nbformat": 4
 },
 "nbformat": 4,
 "nbformat_minor": 2
}
